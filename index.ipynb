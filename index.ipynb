{
 "cells": [
  {
   "cell_type": "markdown",
   "id": "a15088a2",
   "metadata": {},
   "source": [
    "# National Archives and Records Administration\n",
    "\n",
    "Current version: [v0.0.0](https://github.com/GLAM-Workbench/nara/releases/tag/v0.0.0)\n",
    "\n",
    "Examples of harvesting data using the NARA API. For more information see the [National Archives and Records Administration](https://glam-workbench.net/national-archives-and-records-administration/) section of the GLAM Workbench.\n",
    "\n",
    "## Notebook topics\n",
    "\n",
    "* [Notebook title](notebook.ipynb) – this notebook does things\n",
    "\n",
    "See the [GLAM Workbench for more details](https://glam-workbench.github.io/national-archives-and-records-administration/).\n"
   ]
  },
  {
   "cell_type": "markdown",
   "id": "ec7ca3b0",
   "metadata": {},
   "source": [
    "## Cite as\n",
    "\n",
    "See the GLAM Workbench or [Zenodo](https://doi.org/10.5281/zenodo.3521724) for up-to-date citation details.\n",
    "\n",
    "----\n",
    "\n",
    "This repository is part of the [GLAM Workbench](https://glam-workbench.github.io/).  \n"
   ]
  }
 ],
 "metadata": {
  "jupytext": {
   "cell_metadata_filter": "-all"
  },
  "kernelspec": {
   "display_name": "Python 3 (ipykernel)",
   "language": "python",
   "name": "python3"
  }
 },
 "nbformat": 4,
 "nbformat_minor": 5
}
